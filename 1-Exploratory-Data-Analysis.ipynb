{
 "cells": [
  {
   "cell_type": "markdown",
   "metadata": {},
   "source": [
    "# Exploratory Data Analysis"
   ]
  },
  {
   "cell_type": "code",
   "execution_count": 29,
   "metadata": {
    "collapsed": true,
    "scrolled": false
   },
   "outputs": [],
   "source": [
    "import numpy as np # linear algebra\n",
    "import pandas as pd # data processing, CSV file I/O (e.g. pd.read_csv)\n",
    "import datetime as dt # datetime operations\n",
    "import matplotlib.pyplot as plt # data visualization\n",
    "import seaborn as sns # data visualization\n",
    "\n",
    "plt.style.use(style='ggplot')\n",
    "plt.rcParams['figure.figsize'] = (6, 4)\n",
    "%matplotlib inline\n",
    "\n",
    "color = sns.color_palette()\n",
    "import warnings\n",
    "warnings.filterwarnings('ignore') \n",
    "\n"
   ]
  },
  {
   "cell_type": "markdown",
   "metadata": {},
   "source": [
    "# load Expired.csv "
   ]
  },
  {
   "cell_type": "code",
   "execution_count": 30,
   "metadata": {
    "scrolled": true
   },
   "outputs": [
    {
     "name": "stdout",
     "output_type": "stream",
     "text": [
      "(1157, 13)\n"
     ]
    },
    {
     "data": {
      "text/html": [
       "<div>\n",
       "<style>\n",
       "    .dataframe thead tr:only-child th {\n",
       "        text-align: right;\n",
       "    }\n",
       "\n",
       "    .dataframe thead th {\n",
       "        text-align: left;\n",
       "    }\n",
       "\n",
       "    .dataframe tbody tr th {\n",
       "        vertical-align: top;\n",
       "    }\n",
       "</style>\n",
       "<table border=\"1\" class=\"dataframe\">\n",
       "  <thead>\n",
       "    <tr style=\"text-align: right;\">\n",
       "      <th></th>\n",
       "      <th>MbrID</th>\n",
       "      <th>AcctType</th>\n",
       "      <th>AcctStart</th>\n",
       "      <th>AcctExpire</th>\n",
       "      <th>ExecFlag</th>\n",
       "      <th>CreditCardFlag</th>\n",
       "      <th>AutoBillFlag</th>\n",
       "      <th>BirthDate</th>\n",
       "      <th>Gender</th>\n",
       "      <th>15_Shops</th>\n",
       "      <th>15_Spend</th>\n",
       "      <th>16_Shops</th>\n",
       "      <th>16_Spend</th>\n",
       "    </tr>\n",
       "  </thead>\n",
       "  <tbody>\n",
       "    <tr>\n",
       "      <th>0</th>\n",
       "      <td>1243592710</td>\n",
       "      <td>1</td>\n",
       "      <td>2002-03-01</td>\n",
       "      <td>2016-03-01</td>\n",
       "      <td>NaN</td>\n",
       "      <td>NaN</td>\n",
       "      <td>NaN</td>\n",
       "      <td>1954-08-01</td>\n",
       "      <td>NaN</td>\n",
       "      <td>2.0</td>\n",
       "      <td>369.58</td>\n",
       "      <td>1.0</td>\n",
       "      <td>63.45</td>\n",
       "    </tr>\n",
       "    <tr>\n",
       "      <th>1</th>\n",
       "      <td>1545283250</td>\n",
       "      <td>1</td>\n",
       "      <td>2011-07-01</td>\n",
       "      <td>2016-07-01</td>\n",
       "      <td>NaN</td>\n",
       "      <td>NaN</td>\n",
       "      <td>NaN</td>\n",
       "      <td>1973-03-01</td>\n",
       "      <td>NaN</td>\n",
       "      <td>9.0</td>\n",
       "      <td>2205.18</td>\n",
       "      <td>8.0</td>\n",
       "      <td>2240.88</td>\n",
       "    </tr>\n",
       "    <tr>\n",
       "      <th>2</th>\n",
       "      <td>2475375080</td>\n",
       "      <td>1</td>\n",
       "      <td>2013-11-01</td>\n",
       "      <td>2015-11-01</td>\n",
       "      <td>NaN</td>\n",
       "      <td>NaN</td>\n",
       "      <td>NaN</td>\n",
       "      <td>1983-01-01</td>\n",
       "      <td>NaN</td>\n",
       "      <td>23.0</td>\n",
       "      <td>2334.16</td>\n",
       "      <td>5.0</td>\n",
       "      <td>403.52</td>\n",
       "    </tr>\n",
       "    <tr>\n",
       "      <th>3</th>\n",
       "      <td>2608194250</td>\n",
       "      <td>2</td>\n",
       "      <td>2008-01-01</td>\n",
       "      <td>2016-05-01</td>\n",
       "      <td>Y</td>\n",
       "      <td>NaN</td>\n",
       "      <td>NaN</td>\n",
       "      <td>1958-03-01</td>\n",
       "      <td>2.0</td>\n",
       "      <td>11.0</td>\n",
       "      <td>1808.86</td>\n",
       "      <td>2.0</td>\n",
       "      <td>341.02</td>\n",
       "    </tr>\n",
       "    <tr>\n",
       "      <th>4</th>\n",
       "      <td>6588597780</td>\n",
       "      <td>2</td>\n",
       "      <td>2000-06-01</td>\n",
       "      <td>2016-02-01</td>\n",
       "      <td>NaN</td>\n",
       "      <td>NaN</td>\n",
       "      <td>NaN</td>\n",
       "      <td>1968-09-01</td>\n",
       "      <td>NaN</td>\n",
       "      <td>5.0</td>\n",
       "      <td>1145.72</td>\n",
       "      <td>4.0</td>\n",
       "      <td>376.13</td>\n",
       "    </tr>\n",
       "  </tbody>\n",
       "</table>\n",
       "</div>"
      ],
      "text/plain": [
       "        MbrID  AcctType  AcctStart AcctExpire ExecFlag CreditCardFlag  \\\n",
       "0  1243592710         1 2002-03-01 2016-03-01      NaN            NaN   \n",
       "1  1545283250         1 2011-07-01 2016-07-01      NaN            NaN   \n",
       "2  2475375080         1 2013-11-01 2015-11-01      NaN            NaN   \n",
       "3  2608194250         2 2008-01-01 2016-05-01        Y            NaN   \n",
       "4  6588597780         2 2000-06-01 2016-02-01      NaN            NaN   \n",
       "\n",
       "  AutoBillFlag  BirthDate  Gender  15_Shops  15_Spend  16_Shops  16_Spend  \n",
       "0          NaN 1954-08-01     NaN       2.0    369.58       1.0     63.45  \n",
       "1          NaN 1973-03-01     NaN       9.0   2205.18       8.0   2240.88  \n",
       "2          NaN 1983-01-01     NaN      23.0   2334.16       5.0    403.52  \n",
       "3          NaN 1958-03-01     2.0      11.0   1808.86       2.0    341.02  \n",
       "4          NaN 1968-09-01     NaN       5.0   1145.72       4.0    376.13  "
      ]
     },
     "execution_count": 30,
     "metadata": {},
     "output_type": "execute_result"
    }
   ],
   "source": [
    "# Load expired data csv\n",
    "df1 = pd.read_csv('ExpiredMembers.csv', parse_dates=['AcctStart', 'AcctExpire', 'BirthDate'])\n",
    "print(df1.shape)\n",
    "df1.head()"
   ]
  },
  {
   "cell_type": "code",
   "execution_count": 31,
   "metadata": {
    "scrolled": true
   },
   "outputs": [
    {
     "data": {
      "text/plain": [
       "MbrID                      int64\n",
       "AcctType                   int64\n",
       "AcctStart         datetime64[ns]\n",
       "AcctExpire        datetime64[ns]\n",
       "ExecFlag                  object\n",
       "CreditCardFlag            object\n",
       "AutoBillFlag              object\n",
       "BirthDate         datetime64[ns]\n",
       "Gender                   float64\n",
       "15_Shops                 float64\n",
       "15_Spend                 float64\n",
       "16_Shops                 float64\n",
       "16_Spend                 float64\n",
       "dtype: object"
      ]
     },
     "execution_count": 31,
     "metadata": {},
     "output_type": "execute_result"
    }
   ],
   "source": [
    "df1.dtypes"
   ]
  },
  {
   "cell_type": "code",
   "execution_count": 32,
   "metadata": {
    "collapsed": true
   },
   "outputs": [],
   "source": [
    "# histogram"
   ]
  },
  {
   "cell_type": "code",
   "execution_count": 33,
   "metadata": {
    "scrolled": false
   },
   "outputs": [
    {
     "data": {
      "image/png": "[encoded data removed]",
      "text/plain": [
       "<matplotlib.figure.Figure at 0x10c71d68>"
      ]
     },
     "metadata": {},
     "output_type": "display_data"
    }
   ],
   "source": [
    "# Plot histogram grid\n",
    "df1.hist(figsize=(14,14), xrot=-45)\n",
    "\n",
    "# Clear the text \"residue\"\n",
    "plt.show()"
   ]
  },
  {
   "cell_type": "markdown",
   "metadata": {},
   "source": [
    "# Data cleaning and feature creation"
   ]
  },
  {
   "cell_type": "code",
   "execution_count": 34,
   "metadata": {},
   "outputs": [
    {
     "data": {
      "text/html": [
       "<div>\n",
       "<style>\n",
       "    .dataframe thead tr:only-child th {\n",
       "        text-align: right;\n",
       "    }\n",
       "\n",
       "    .dataframe thead th {\n",
       "        text-align: left;\n",
       "    }\n",
       "\n",
       "    .dataframe tbody tr th {\n",
       "        vertical-align: top;\n",
       "    }\n",
       "</style>\n",
       "<table border=\"1\" class=\"dataframe\">\n",
       "  <thead>\n",
       "    <tr style=\"text-align: right;\">\n",
       "      <th></th>\n",
       "      <th>MbrID</th>\n",
       "      <th>AcctType</th>\n",
       "      <th>AcctStart</th>\n",
       "      <th>AcctExpire</th>\n",
       "      <th>ExecFlag</th>\n",
       "      <th>CreditCardFlag</th>\n",
       "      <th>AutoBillFlag</th>\n",
       "      <th>BirthDate</th>\n",
       "      <th>Gender</th>\n",
       "      <th>15_Shops</th>\n",
       "      <th>15_Spend</th>\n",
       "      <th>16_Shops</th>\n",
       "      <th>16_Spend</th>\n",
       "      <th>Duration</th>\n",
       "      <th>Age</th>\n",
       "    </tr>\n",
       "  </thead>\n",
       "  <tbody>\n",
       "    <tr>\n",
       "      <th>0</th>\n",
       "      <td>1243592710</td>\n",
       "      <td>1</td>\n",
       "      <td>2002-03-01</td>\n",
       "      <td>2016-03-01</td>\n",
       "      <td>NaN</td>\n",
       "      <td>NaN</td>\n",
       "      <td>NaN</td>\n",
       "      <td>1954-08-01</td>\n",
       "      <td>NaN</td>\n",
       "      <td>2.0</td>\n",
       "      <td>369.58</td>\n",
       "      <td>1.0</td>\n",
       "      <td>63.45</td>\n",
       "      <td>168.019877</td>\n",
       "      <td>63.588</td>\n",
       "    </tr>\n",
       "    <tr>\n",
       "      <th>1</th>\n",
       "      <td>1545283250</td>\n",
       "      <td>1</td>\n",
       "      <td>2011-07-01</td>\n",
       "      <td>2016-07-01</td>\n",
       "      <td>NaN</td>\n",
       "      <td>NaN</td>\n",
       "      <td>NaN</td>\n",
       "      <td>1973-03-01</td>\n",
       "      <td>NaN</td>\n",
       "      <td>9.0</td>\n",
       "      <td>2205.18</td>\n",
       "      <td>8.0</td>\n",
       "      <td>2240.88</td>\n",
       "      <td>60.025873</td>\n",
       "      <td>45.006</td>\n",
       "    </tr>\n",
       "    <tr>\n",
       "      <th>2</th>\n",
       "      <td>2475375080</td>\n",
       "      <td>1</td>\n",
       "      <td>2013-11-01</td>\n",
       "      <td>2015-11-01</td>\n",
       "      <td>NaN</td>\n",
       "      <td>NaN</td>\n",
       "      <td>NaN</td>\n",
       "      <td>1983-01-01</td>\n",
       "      <td>NaN</td>\n",
       "      <td>23.0</td>\n",
       "      <td>2334.16</td>\n",
       "      <td>5.0</td>\n",
       "      <td>403.52</td>\n",
       "      <td>23.984065</td>\n",
       "      <td>35.168</td>\n",
       "    </tr>\n",
       "    <tr>\n",
       "      <th>3</th>\n",
       "      <td>2608194250</td>\n",
       "      <td>2</td>\n",
       "      <td>2008-01-01</td>\n",
       "      <td>2016-05-01</td>\n",
       "      <td>Y</td>\n",
       "      <td>NaN</td>\n",
       "      <td>NaN</td>\n",
       "      <td>1958-03-01</td>\n",
       "      <td>2.0</td>\n",
       "      <td>11.0</td>\n",
       "      <td>1808.86</td>\n",
       "      <td>2.0</td>\n",
       "      <td>341.02</td>\n",
       "      <td>99.977412</td>\n",
       "      <td>60.007</td>\n",
       "    </tr>\n",
       "    <tr>\n",
       "      <th>4</th>\n",
       "      <td>6588597780</td>\n",
       "      <td>2</td>\n",
       "      <td>2000-06-01</td>\n",
       "      <td>2016-02-01</td>\n",
       "      <td>NaN</td>\n",
       "      <td>NaN</td>\n",
       "      <td>NaN</td>\n",
       "      <td>1968-09-01</td>\n",
       "      <td>NaN</td>\n",
       "      <td>5.0</td>\n",
       "      <td>1145.72</td>\n",
       "      <td>4.0</td>\n",
       "      <td>376.13</td>\n",
       "      <td>188.028502</td>\n",
       "      <td>49.501</td>\n",
       "    </tr>\n",
       "  </tbody>\n",
       "</table>\n",
       "</div>"
      ],
      "text/plain": [
       "        MbrID  AcctType  AcctStart AcctExpire ExecFlag CreditCardFlag  \\\n",
       "0  1243592710         1 2002-03-01 2016-03-01      NaN            NaN   \n",
       "1  1545283250         1 2011-07-01 2016-07-01      NaN            NaN   \n",
       "2  2475375080         1 2013-11-01 2015-11-01      NaN            NaN   \n",
       "3  2608194250         2 2008-01-01 2016-05-01        Y            NaN   \n",
       "4  6588597780         2 2000-06-01 2016-02-01      NaN            NaN   \n",
       "\n",
       "  AutoBillFlag  BirthDate  Gender  15_Shops  15_Spend  16_Shops  16_Spend  \\\n",
       "0          NaN 1954-08-01     NaN       2.0    369.58       1.0     63.45   \n",
       "1          NaN 1973-03-01     NaN       9.0   2205.18       8.0   2240.88   \n",
       "2          NaN 1983-01-01     NaN      23.0   2334.16       5.0    403.52   \n",
       "3          NaN 1958-03-01     2.0      11.0   1808.86       2.0    341.02   \n",
       "4          NaN 1968-09-01     NaN       5.0   1145.72       4.0    376.13   \n",
       "\n",
       "     Duration     Age  \n",
       "0  168.019877  63.588  \n",
       "1   60.025873  45.006  \n",
       "2   23.984065  35.168  \n",
       "3   99.977412  60.007  \n",
       "4  188.028502  49.501  "
      ]
     },
     "execution_count": 34,
     "metadata": {},
     "output_type": "execute_result"
    }
   ],
   "source": [
    "#create new column for further analysis\n",
    "\n",
    "df1['Duration'] = df1['AcctExpire'].sub(df1['AcctStart'], axis=0)\n",
    "df1['Duration'] = df1['Duration'] / np.timedelta64(1, 'M')\n",
    "df1.head()         \n",
    "\n",
    "df1['Age'] = (df1['BirthDate'].sub(dt.date(2018,3,3))) * -1\n",
    "df1['Age'] = df1['Age'] / np.timedelta64(1, 'Y')\n",
    "df1['Age'] = df1.Age.round(3)\n",
    "df1.head() "
   ]
  },
  {
   "cell_type": "code",
   "execution_count": 35,
   "metadata": {
    "scrolled": true
   },
   "outputs": [
    {
     "name": "stdout",
     "output_type": "stream",
     "text": [
      "('AcctType values = ', array([1, 2], dtype=int64))\n",
      "('ExecFlag values = ', array([nan, 'Y'], dtype=object))\n",
      "('CreditCardFlag values = ', array([nan, 'Y'], dtype=object))\n",
      "('AutoBillFlag values = ', array([nan, 'Y'], dtype=object))\n",
      "('Gender values = ', array([ nan,   2.,   1.]))\n"
     ]
    }
   ],
   "source": [
    "print(\"AcctType values = \", pd.unique(df1['AcctType']))\n",
    "print(\"ExecFlag values = \", pd.unique(df1['ExecFlag']))\n",
    "print(\"CreditCardFlag values = \", pd.unique(df1['CreditCardFlag']))\n",
    "print(\"AutoBillFlag values = \", pd.unique(df1['AutoBillFlag']))\n",
    "print(\"Gender values = \", pd.unique(df1['Gender']))\n",
    "\n"
   ]
  },
  {
   "cell_type": "code",
   "execution_count": 36,
   "metadata": {
    "collapsed": true
   },
   "outputs": [],
   "source": [
    "#create missing flag variable\n",
    "df1['GMiss'] = df1['Gender'].isnull().astype(int)"
   ]
  },
  {
   "cell_type": "code",
   "execution_count": 37,
   "metadata": {},
   "outputs": [
    {
     "data": {
      "text/html": [
       "<div>\n",
       "<style>\n",
       "    .dataframe thead tr:only-child th {\n",
       "        text-align: right;\n",
       "    }\n",
       "\n",
       "    .dataframe thead th {\n",
       "        text-align: left;\n",
       "    }\n",
       "\n",
       "    .dataframe tbody tr th {\n",
       "        vertical-align: top;\n",
       "    }\n",
       "</style>\n",
       "<table border=\"1\" class=\"dataframe\">\n",
       "  <thead>\n",
       "    <tr style=\"text-align: right;\">\n",
       "      <th></th>\n",
       "      <th>MbrID</th>\n",
       "      <th>AcctType</th>\n",
       "      <th>AcctStart</th>\n",
       "      <th>AcctExpire</th>\n",
       "      <th>ExecFlag</th>\n",
       "      <th>CreditCardFlag</th>\n",
       "      <th>AutoBillFlag</th>\n",
       "      <th>BirthDate</th>\n",
       "      <th>15_Shops</th>\n",
       "      <th>15_Spend</th>\n",
       "      <th>16_Shops</th>\n",
       "      <th>16_Spend</th>\n",
       "      <th>Duration</th>\n",
       "      <th>Age</th>\n",
       "      <th>GMiss</th>\n",
       "      <th>Gender_1.0</th>\n",
       "      <th>Gender_2.0</th>\n",
       "    </tr>\n",
       "  </thead>\n",
       "  <tbody>\n",
       "    <tr>\n",
       "      <th>0</th>\n",
       "      <td>1243592710</td>\n",
       "      <td>1</td>\n",
       "      <td>2002-03-01</td>\n",
       "      <td>2016-03-01</td>\n",
       "      <td>NaN</td>\n",
       "      <td>NaN</td>\n",
       "      <td>NaN</td>\n",
       "      <td>1954-08-01</td>\n",
       "      <td>2.0</td>\n",
       "      <td>369.58</td>\n",
       "      <td>1.0</td>\n",
       "      <td>63.45</td>\n",
       "      <td>168.019877</td>\n",
       "      <td>63.588</td>\n",
       "      <td>1</td>\n",
       "      <td>0</td>\n",
       "      <td>0</td>\n",
       "    </tr>\n",
       "    <tr>\n",
       "      <th>1</th>\n",
       "      <td>1545283250</td>\n",
       "      <td>1</td>\n",
       "      <td>2011-07-01</td>\n",
       "      <td>2016-07-01</td>\n",
       "      <td>NaN</td>\n",
       "      <td>NaN</td>\n",
       "      <td>NaN</td>\n",
       "      <td>1973-03-01</td>\n",
       "      <td>9.0</td>\n",
       "      <td>2205.18</td>\n",
       "      <td>8.0</td>\n",
       "      <td>2240.88</td>\n",
       "      <td>60.025873</td>\n",
       "      <td>45.006</td>\n",
       "      <td>1</td>\n",
       "      <td>0</td>\n",
       "      <td>0</td>\n",
       "    </tr>\n",
       "    <tr>\n",
       "      <th>2</th>\n",
       "      <td>2475375080</td>\n",
       "      <td>1</td>\n",
       "      <td>2013-11-01</td>\n",
       "      <td>2015-11-01</td>\n",
       "      <td>NaN</td>\n",
       "      <td>NaN</td>\n",
       "      <td>NaN</td>\n",
       "      <td>1983-01-01</td>\n",
       "      <td>23.0</td>\n",
       "      <td>2334.16</td>\n",
       "      <td>5.0</td>\n",
       "      <td>403.52</td>\n",
       "      <td>23.984065</td>\n",
       "      <td>35.168</td>\n",
       "      <td>1</td>\n",
       "      <td>0</td>\n",
       "      <td>0</td>\n",
       "    </tr>\n",
       "    <tr>\n",
       "      <th>3</th>\n",
       "      <td>2608194250</td>\n",
       "      <td>2</td>\n",
       "      <td>2008-01-01</td>\n",
       "      <td>2016-05-01</td>\n",
       "      <td>Y</td>\n",
       "      <td>NaN</td>\n",
       "      <td>NaN</td>\n",
       "      <td>1958-03-01</td>\n",
       "      <td>11.0</td>\n",
       "      <td>1808.86</td>\n",
       "      <td>2.0</td>\n",
       "      <td>341.02</td>\n",
       "      <td>99.977412</td>\n",
       "      <td>60.007</td>\n",
       "      <td>0</td>\n",
       "      <td>0</td>\n",
       "      <td>1</td>\n",
       "    </tr>\n",
       "    <tr>\n",
       "      <th>4</th>\n",
       "      <td>6588597780</td>\n",
       "      <td>2</td>\n",
       "      <td>2000-06-01</td>\n",
       "      <td>2016-02-01</td>\n",
       "      <td>NaN</td>\n",
       "      <td>NaN</td>\n",
       "      <td>NaN</td>\n",
       "      <td>1968-09-01</td>\n",
       "      <td>5.0</td>\n",
       "      <td>1145.72</td>\n",
       "      <td>4.0</td>\n",
       "      <td>376.13</td>\n",
       "      <td>188.028502</td>\n",
       "      <td>49.501</td>\n",
       "      <td>1</td>\n",
       "      <td>0</td>\n",
       "      <td>0</td>\n",
       "    </tr>\n",
       "  </tbody>\n",
       "</table>\n",
       "</div>"
      ],
      "text/plain": [
       "        MbrID  AcctType  AcctStart AcctExpire ExecFlag CreditCardFlag  \\\n",
       "0  1243592710         1 2002-03-01 2016-03-01      NaN            NaN   \n",
       "1  1545283250         1 2011-07-01 2016-07-01      NaN            NaN   \n",
       "2  2475375080         1 2013-11-01 2015-11-01      NaN            NaN   \n",
       "3  2608194250         2 2008-01-01 2016-05-01        Y            NaN   \n",
       "4  6588597780         2 2000-06-01 2016-02-01      NaN            NaN   \n",
       "\n",
       "  AutoBillFlag  BirthDate  15_Shops  15_Spend  16_Shops  16_Spend    Duration  \\\n",
       "0          NaN 1954-08-01       2.0    369.58       1.0     63.45  168.019877   \n",
       "1          NaN 1973-03-01       9.0   2205.18       8.0   2240.88   60.025873   \n",
       "2          NaN 1983-01-01      23.0   2334.16       5.0    403.52   23.984065   \n",
       "3          NaN 1958-03-01      11.0   1808.86       2.0    341.02   99.977412   \n",
       "4          NaN 1968-09-01       5.0   1145.72       4.0    376.13  188.028502   \n",
       "\n",
       "      Age  GMiss  Gender_1.0  Gender_2.0  \n",
       "0  63.588      1           0           0  \n",
       "1  45.006      1           0           0  \n",
       "2  35.168      1           0           0  \n",
       "3  60.007      0           0           1  \n",
       "4  49.501      1           0           0  "
      ]
     },
     "execution_count": 37,
     "metadata": {},
     "output_type": "execute_result"
    }
   ],
   "source": [
    "#get dummies for variables\n",
    "\n",
    "df1 = pd.get_dummies(df1, columns=['Gender'])\n",
    "df1.head()"
   ]
  },
  {
   "cell_type": "code",
   "execution_count": 38,
   "metadata": {},
   "outputs": [
    {
     "name": "stdout",
     "output_type": "stream",
     "text": [
      "('AcctType values = ', array([0, 1], dtype=int64))\n",
      "('ExecFlag values = ', array([0, 1], dtype=int64))\n",
      "('CreditCardFlag values = ', array([0, 1], dtype=int64))\n",
      "('AutoBillFlag values = ', array([0, 1], dtype=int64))\n"
     ]
    }
   ],
   "source": [
    "# fix structral errors \n",
    "\n",
    "df1.AcctType = df1.AcctType.eq(2).mul(1)\n",
    "\n",
    "df1.ExecFlag.fillna(0, inplace=True)\n",
    "df1.ExecFlag = df1.ExecFlag.eq('Y').mul(1)\n",
    "\n",
    "df1.CreditCardFlag.fillna(0, inplace=True)\n",
    "df1.CreditCardFlag = df1.CreditCardFlag.eq('Y').mul(1)\n",
    "\n",
    "df1.AutoBillFlag.fillna(0, inplace=True)\n",
    "df1.AutoBillFlag = df1.AutoBillFlag.eq('Y').mul(1)\n",
    "df1.head()\n",
    "\n",
    "print(\"AcctType values = \", pd.unique(df1['AcctType']))\n",
    "print(\"ExecFlag values = \", pd.unique(df1['ExecFlag']))\n",
    "print(\"CreditCardFlag values = \", pd.unique(df1['CreditCardFlag']))\n",
    "print(\"AutoBillFlag values = \", pd.unique(df1['AutoBillFlag']))\n"
   ]
  },
  {
   "cell_type": "markdown",
   "metadata": {},
   "source": [
    "# Visualization"
   ]
  },
  {
   "cell_type": "code",
   "execution_count": 39,
   "metadata": {},
   "outputs": [
    {
     "data": {
      "image/png": "[encoded data removed]",
      "text/plain": [
       "<matplotlib.figure.Figure at 0xfa1d828>"
      ]
     },
     "metadata": {},
     "output_type": "display_data"
    },
    {
     "data": {
      "image/png": "[encoded data removed]",
      "text/plain": [
       "<matplotlib.figure.Figure at 0xf9a1588>"
      ]
     },
     "metadata": {},
     "output_type": "display_data"
    },
    {
     "data": {
      "image/png": "[encoded data removed]",
      "text/plain": [
       "<matplotlib.figure.Figure at 0xe8a19e8>"
      ]
     },
     "metadata": {},
     "output_type": "display_data"
    },
    {
     "data": {
      "image/png": "[encoded data removed]",
      "text/plain": [
       "<matplotlib.figure.Figure at 0x110aea20>"
      ]
     },
     "metadata": {},
     "output_type": "display_data"
    }
   ],
   "source": [
    "# Plot bar plot for each categorical feature\n",
    "for feature in ['AcctType', 'ExecFlag', 'CreditCardFlag', 'AutoBillFlag']:\n",
    "    sns.countplot(y=feature, data=df1)\n",
    "    plt.show()"
   ]
  },
  {
   "cell_type": "code",
   "execution_count": 40,
   "metadata": {},
   "outputs": [
    {
     "data": {
      "text/plain": [
       "(1157, 17)"
      ]
     },
     "execution_count": 40,
     "metadata": {},
     "output_type": "execute_result"
    }
   ],
   "source": [
    "df1.shape"
   ]
  },
  {
   "cell_type": "code",
   "execution_count": 41,
   "metadata": {},
   "outputs": [
    {
     "data": {
      "image/png": "[encoded data removed]",
      "text/plain": [
       "<matplotlib.figure.Figure at 0xf7a06a0>"
      ]
     },
     "metadata": {},
     "output_type": "display_data"
    },
    {
     "data": {
      "image/png": "[encoded data removed]",
      "text/plain": [
       "<matplotlib.figure.Figure at 0xf5b2f60>"
      ]
     },
     "metadata": {},
     "output_type": "display_data"
    },
    {
     "data": {
      "image/png": "[encoded data removed]",
      "text/plain": [
       "<matplotlib.figure.Figure at 0x1029e5c0>"
      ]
     },
     "metadata": {},
     "output_type": "display_data"
    },
    {
     "data": {
      "image/png": "[encoded data removed]",
      "text/plain": [
       "<matplotlib.figure.Figure at 0xfa69e80>"
      ]
     },
     "metadata": {},
     "output_type": "display_data"
    }
   ],
   "source": [
    "#Effect of account type\n",
    "for feature in ['AcctType', 'ExecFlag', 'CreditCardFlag', 'AutoBillFlag']:\n",
    "    sns.boxplot(y='Duration', x=feature, data=df1)\n",
    "    plt.show()\n"
   ]
  },
  {
   "cell_type": "code",
   "execution_count": 42,
   "metadata": {},
   "outputs": [
    {
     "data": {
      "image/png": "[encoded data removed]",
      "text/plain": [
       "<matplotlib.figure.Figure at 0xe57f9b0>"
      ]
     },
     "metadata": {},
     "output_type": "display_data"
    },
    {
     "data": {
      "image/png": "[encoded data removed]",
      "text/plain": [
       "<matplotlib.figure.Figure at 0x10c5c470>"
      ]
     },
     "metadata": {},
     "output_type": "display_data"
    },
    {
     "data": {
      "image/png": "[encoded data removed]",
      "text/plain": [
       "<matplotlib.figure.Figure at 0xf9950f0>"
      ]
     },
     "metadata": {},
     "output_type": "display_data"
    },
    {
     "data": {
      "image/png": "[encoded data removed]",
      "text/plain": [
       "<matplotlib.figure.Figure at 0x10c29710>"
      ]
     },
     "metadata": {},
     "output_type": "display_data"
    },
    {
     "data": {
      "image/png": "[encoded data removed]",
      "text/plain": [
       "<matplotlib.figure.Figure at 0xf9a2860>"
      ]
     },
     "metadata": {},
     "output_type": "display_data"
    },
    {
     "data": {
      "image/png": "[encoded data removed]",
      "text/plain": [
       "<matplotlib.figure.Figure at 0xf89f8d0>"
      ]
     },
     "metadata": {},
     "output_type": "display_data"
    },
    {
     "name": "stdout",
     "output_type": "stream",
     "text": [
      "('Rich people-15:', (6, 17))\n",
      "('Rich people-16:', (2, 17))\n",
      "('Hoppers-15:', (42, 17))\n",
      "('Hoppers-16:', (8, 17))\n",
      "('Old people:', (50, 17))\n",
      "('Loyal customer:', (58, 17))\n"
     ]
    }
   ],
   "source": [
    "# Plot bar plot for each categorical feature\n",
    "for feature in ['15_Shops', '16_Shops', '15_Spend', '16_Spend','Age', 'Duration']:\n",
    "    sns.violinplot(df1[feature])\n",
    "    plt.show()\n",
    "\n",
    "# Trip duration equal to zero\n",
    "print(\"Rich people-15:\", df1[df1['15_Spend'] > 10000].shape)\n",
    "print(\"Rich people-16:\", df1[df1['16_Spend'] > 10000].shape)\n",
    "\n",
    "print(\"Hoppers-15:\", df1[df1['15_Shops'] > 50].shape)\n",
    "print(\"Hoppers-16:\", df1[df1['16_Shops'] > 50].shape)\n",
    "\n",
    "# Less than zero trip duration\n",
    "print(\"Old people:\", df1[df1['Age'] > 75].shape)\n",
    "\n",
    "# Trip duration equal to zero\n",
    "print(\"Loyal customer:\", df1[df1['Duration'] > 300].shape)"
   ]
  },
  {
   "cell_type": "markdown",
   "metadata": {},
   "source": [
    "# correlation heatmap"
   ]
  },
  {
   "cell_type": "code",
   "execution_count": 43,
   "metadata": {},
   "outputs": [
    {
     "data": {
      "text/plain": [
       "<matplotlib.axes._subplots.AxesSubplot at 0xe9adef0>"
      ]
     },
     "execution_count": 43,
     "metadata": {},
     "output_type": "execute_result"
    },
    {
     "data": {
      "image/png": "[encoded data removed]",
      "text/plain": [
       "<matplotlib.figure.Figure at 0xe506ef0>"
      ]
     },
     "metadata": {},
     "output_type": "display_data"
    }
   ],
   "source": [
    "correlations = df1.corr()\n",
    "\n",
    "# Change color scheme\n",
    "sns.set_style(\"white\")\n",
    "\n",
    "# Generate a mask for the upper triangle\n",
    "mask = np.zeros_like(correlations, dtype=np.bool)\n",
    "mask[np.triu_indices_from(mask)] = True\n",
    "\n",
    "# Make the figsize 9 x 8\n",
    "plt.figure(figsize=(9,8))\n",
    "\n",
    "# Plot heatmap of correlations\n",
    "sns.heatmap(correlations * 100, annot=True, fmt='.0f', mask=mask)"
   ]
  },
  {
   "cell_type": "code",
   "execution_count": 44,
   "metadata": {},
   "outputs": [
    {
     "data": {
      "text/html": [
       "<div>\n",
       "<style>\n",
       "    .dataframe thead tr:only-child th {\n",
       "        text-align: right;\n",
       "    }\n",
       "\n",
       "    .dataframe thead th {\n",
       "        text-align: left;\n",
       "    }\n",
       "\n",
       "    .dataframe tbody tr th {\n",
       "        vertical-align: top;\n",
       "    }\n",
       "</style>\n",
       "<table border=\"1\" class=\"dataframe\">\n",
       "  <thead>\n",
       "    <tr style=\"text-align: right;\">\n",
       "      <th></th>\n",
       "      <th>MbrID</th>\n",
       "      <th>AcctType</th>\n",
       "      <th>AcctStart</th>\n",
       "      <th>AcctExpire</th>\n",
       "      <th>ExecFlag</th>\n",
       "      <th>CreditCardFlag</th>\n",
       "      <th>AutoBillFlag</th>\n",
       "      <th>BirthDate</th>\n",
       "      <th>15_Shops</th>\n",
       "      <th>15_Spend</th>\n",
       "      <th>16_Shops</th>\n",
       "      <th>16_Spend</th>\n",
       "      <th>Duration</th>\n",
       "      <th>Age</th>\n",
       "      <th>GMiss</th>\n",
       "      <th>Gender_1.0</th>\n",
       "      <th>Gender_2.0</th>\n",
       "    </tr>\n",
       "  </thead>\n",
       "  <tbody>\n",
       "    <tr>\n",
       "      <th>0</th>\n",
       "      <td>1243592710</td>\n",
       "      <td>0</td>\n",
       "      <td>2002-03-01</td>\n",
       "      <td>2016-03-01</td>\n",
       "      <td>0</td>\n",
       "      <td>0</td>\n",
       "      <td>0</td>\n",
       "      <td>1954-08-01</td>\n",
       "      <td>2.0</td>\n",
       "      <td>369.58</td>\n",
       "      <td>1.0</td>\n",
       "      <td>63.45</td>\n",
       "      <td>168.019877</td>\n",
       "      <td>63.588</td>\n",
       "      <td>1</td>\n",
       "      <td>0</td>\n",
       "      <td>0</td>\n",
       "    </tr>\n",
       "    <tr>\n",
       "      <th>1</th>\n",
       "      <td>1545283250</td>\n",
       "      <td>0</td>\n",
       "      <td>2011-07-01</td>\n",
       "      <td>2016-07-01</td>\n",
       "      <td>0</td>\n",
       "      <td>0</td>\n",
       "      <td>0</td>\n",
       "      <td>1973-03-01</td>\n",
       "      <td>9.0</td>\n",
       "      <td>2205.18</td>\n",
       "      <td>8.0</td>\n",
       "      <td>2240.88</td>\n",
       "      <td>60.025873</td>\n",
       "      <td>45.006</td>\n",
       "      <td>1</td>\n",
       "      <td>0</td>\n",
       "      <td>0</td>\n",
       "    </tr>\n",
       "    <tr>\n",
       "      <th>2</th>\n",
       "      <td>2475375080</td>\n",
       "      <td>0</td>\n",
       "      <td>2013-11-01</td>\n",
       "      <td>2015-11-01</td>\n",
       "      <td>0</td>\n",
       "      <td>0</td>\n",
       "      <td>0</td>\n",
       "      <td>1983-01-01</td>\n",
       "      <td>23.0</td>\n",
       "      <td>2334.16</td>\n",
       "      <td>5.0</td>\n",
       "      <td>403.52</td>\n",
       "      <td>23.984065</td>\n",
       "      <td>35.168</td>\n",
       "      <td>1</td>\n",
       "      <td>0</td>\n",
       "      <td>0</td>\n",
       "    </tr>\n",
       "    <tr>\n",
       "      <th>3</th>\n",
       "      <td>2608194250</td>\n",
       "      <td>1</td>\n",
       "      <td>2008-01-01</td>\n",
       "      <td>2016-05-01</td>\n",
       "      <td>1</td>\n",
       "      <td>0</td>\n",
       "      <td>0</td>\n",
       "      <td>1958-03-01</td>\n",
       "      <td>11.0</td>\n",
       "      <td>1808.86</td>\n",
       "      <td>2.0</td>\n",
       "      <td>341.02</td>\n",
       "      <td>99.977412</td>\n",
       "      <td>60.007</td>\n",
       "      <td>0</td>\n",
       "      <td>0</td>\n",
       "      <td>1</td>\n",
       "    </tr>\n",
       "    <tr>\n",
       "      <th>4</th>\n",
       "      <td>6588597780</td>\n",
       "      <td>1</td>\n",
       "      <td>2000-06-01</td>\n",
       "      <td>2016-02-01</td>\n",
       "      <td>0</td>\n",
       "      <td>0</td>\n",
       "      <td>0</td>\n",
       "      <td>1968-09-01</td>\n",
       "      <td>5.0</td>\n",
       "      <td>1145.72</td>\n",
       "      <td>4.0</td>\n",
       "      <td>376.13</td>\n",
       "      <td>188.028502</td>\n",
       "      <td>49.501</td>\n",
       "      <td>1</td>\n",
       "      <td>0</td>\n",
       "      <td>0</td>\n",
       "    </tr>\n",
       "  </tbody>\n",
       "</table>\n",
       "</div>"
      ],
      "text/plain": [
       "        MbrID  AcctType  AcctStart AcctExpire  ExecFlag  CreditCardFlag  \\\n",
       "0  1243592710         0 2002-03-01 2016-03-01         0               0   \n",
       "1  1545283250         0 2011-07-01 2016-07-01         0               0   \n",
       "2  2475375080         0 2013-11-01 2015-11-01         0               0   \n",
       "3  2608194250         1 2008-01-01 2016-05-01         1               0   \n",
       "4  6588597780         1 2000-06-01 2016-02-01         0               0   \n",
       "\n",
       "   AutoBillFlag  BirthDate  15_Shops  15_Spend  16_Shops  16_Spend  \\\n",
       "0             0 1954-08-01       2.0    369.58       1.0     63.45   \n",
       "1             0 1973-03-01       9.0   2205.18       8.0   2240.88   \n",
       "2             0 1983-01-01      23.0   2334.16       5.0    403.52   \n",
       "3             0 1958-03-01      11.0   1808.86       2.0    341.02   \n",
       "4             0 1968-09-01       5.0   1145.72       4.0    376.13   \n",
       "\n",
       "     Duration     Age  GMiss  Gender_1.0  Gender_2.0  \n",
       "0  168.019877  63.588      1           0           0  \n",
       "1   60.025873  45.006      1           0           0  \n",
       "2   23.984065  35.168      1           0           0  \n",
       "3   99.977412  60.007      0           0           1  \n",
       "4  188.028502  49.501      1           0           0  "
      ]
     },
     "execution_count": 44,
     "metadata": {},
     "output_type": "execute_result"
    }
   ],
   "source": [
    "df1 = df1.dropna()\n",
    "df1.head()"
   ]
  },
  {
   "cell_type": "code",
   "execution_count": 45,
   "metadata": {
    "scrolled": true
   },
   "outputs": [
    {
     "data": {
      "text/html": [
       "<div>\n",
       "<style>\n",
       "    .dataframe thead tr:only-child th {\n",
       "        text-align: right;\n",
       "    }\n",
       "\n",
       "    .dataframe thead th {\n",
       "        text-align: left;\n",
       "    }\n",
       "\n",
       "    .dataframe tbody tr th {\n",
       "        vertical-align: top;\n",
       "    }\n",
       "</style>\n",
       "<table border=\"1\" class=\"dataframe\">\n",
       "  <thead>\n",
       "    <tr style=\"text-align: right;\">\n",
       "      <th></th>\n",
       "      <th>AcctType</th>\n",
       "      <th>ExecFlag</th>\n",
       "      <th>CreditCardFlag</th>\n",
       "      <th>AutoBillFlag</th>\n",
       "      <th>15_Shops</th>\n",
       "      <th>15_Spend</th>\n",
       "      <th>16_Shops</th>\n",
       "      <th>16_Spend</th>\n",
       "      <th>Duration</th>\n",
       "      <th>Age</th>\n",
       "      <th>GMiss</th>\n",
       "      <th>Gender_1.0</th>\n",
       "      <th>Gender_2.0</th>\n",
       "    </tr>\n",
       "  </thead>\n",
       "  <tbody>\n",
       "    <tr>\n",
       "      <th>0</th>\n",
       "      <td>0</td>\n",
       "      <td>0</td>\n",
       "      <td>0</td>\n",
       "      <td>0</td>\n",
       "      <td>2.0</td>\n",
       "      <td>369.58</td>\n",
       "      <td>1.0</td>\n",
       "      <td>63.45</td>\n",
       "      <td>168.019877</td>\n",
       "      <td>63.588</td>\n",
       "      <td>1</td>\n",
       "      <td>0</td>\n",
       "      <td>0</td>\n",
       "    </tr>\n",
       "    <tr>\n",
       "      <th>1</th>\n",
       "      <td>0</td>\n",
       "      <td>0</td>\n",
       "      <td>0</td>\n",
       "      <td>0</td>\n",
       "      <td>9.0</td>\n",
       "      <td>2205.18</td>\n",
       "      <td>8.0</td>\n",
       "      <td>2240.88</td>\n",
       "      <td>60.025873</td>\n",
       "      <td>45.006</td>\n",
       "      <td>1</td>\n",
       "      <td>0</td>\n",
       "      <td>0</td>\n",
       "    </tr>\n",
       "    <tr>\n",
       "      <th>2</th>\n",
       "      <td>0</td>\n",
       "      <td>0</td>\n",
       "      <td>0</td>\n",
       "      <td>0</td>\n",
       "      <td>23.0</td>\n",
       "      <td>2334.16</td>\n",
       "      <td>5.0</td>\n",
       "      <td>403.52</td>\n",
       "      <td>23.984065</td>\n",
       "      <td>35.168</td>\n",
       "      <td>1</td>\n",
       "      <td>0</td>\n",
       "      <td>0</td>\n",
       "    </tr>\n",
       "    <tr>\n",
       "      <th>3</th>\n",
       "      <td>1</td>\n",
       "      <td>1</td>\n",
       "      <td>0</td>\n",
       "      <td>0</td>\n",
       "      <td>11.0</td>\n",
       "      <td>1808.86</td>\n",
       "      <td>2.0</td>\n",
       "      <td>341.02</td>\n",
       "      <td>99.977412</td>\n",
       "      <td>60.007</td>\n",
       "      <td>0</td>\n",
       "      <td>0</td>\n",
       "      <td>1</td>\n",
       "    </tr>\n",
       "    <tr>\n",
       "      <th>4</th>\n",
       "      <td>1</td>\n",
       "      <td>0</td>\n",
       "      <td>0</td>\n",
       "      <td>0</td>\n",
       "      <td>5.0</td>\n",
       "      <td>1145.72</td>\n",
       "      <td>4.0</td>\n",
       "      <td>376.13</td>\n",
       "      <td>188.028502</td>\n",
       "      <td>49.501</td>\n",
       "      <td>1</td>\n",
       "      <td>0</td>\n",
       "      <td>0</td>\n",
       "    </tr>\n",
       "  </tbody>\n",
       "</table>\n",
       "</div>"
      ],
      "text/plain": [
       "   AcctType  ExecFlag  CreditCardFlag  AutoBillFlag  15_Shops  15_Spend  \\\n",
       "0         0         0               0             0       2.0    369.58   \n",
       "1         0         0               0             0       9.0   2205.18   \n",
       "2         0         0               0             0      23.0   2334.16   \n",
       "3         1         1               0             0      11.0   1808.86   \n",
       "4         1         0               0             0       5.0   1145.72   \n",
       "\n",
       "   16_Shops  16_Spend    Duration     Age  GMiss  Gender_1.0  Gender_2.0  \n",
       "0       1.0     63.45  168.019877  63.588      1           0           0  \n",
       "1       8.0   2240.88   60.025873  45.006      1           0           0  \n",
       "2       5.0    403.52   23.984065  35.168      1           0           0  \n",
       "3       2.0    341.02   99.977412  60.007      0           0           1  \n",
       "4       4.0    376.13  188.028502  49.501      1           0           0  "
      ]
     },
     "execution_count": 45,
     "metadata": {},
     "output_type": "execute_result"
    }
   ],
   "source": [
    "# drop unwanted variables\n",
    "dataset = df1.drop([ 'MbrID', 'AcctStart','AcctExpire', 'BirthDate'], axis=1, inplace=False)\n",
    "dataset.head()"
   ]
  },
  {
   "cell_type": "code",
   "execution_count": 46,
   "metadata": {
    "collapsed": true
   },
   "outputs": [],
   "source": [
    "dataset.to_csv('train.csv', index=None)"
   ]
  },
  {
   "cell_type": "code",
   "execution_count": 47,
   "metadata": {},
   "outputs": [
    {
     "data": {
      "text/plain": [
       "(1018, 13)"
      ]
     },
     "execution_count": 47,
     "metadata": {},
     "output_type": "execute_result"
    }
   ],
   "source": [
    "dataset.shape"
   ]
  },
  {
   "cell_type": "code",
   "execution_count": null,
   "metadata": {
    "collapsed": true
   },
   "outputs": [],
   "source": []
  }
 ],
 "metadata": {
  "kernelspec": {
   "display_name": "Python 2",
   "language": "python",
   "name": "python2"
  },
  "language_info": {
   "codemirror_mode": {
    "name": "ipython",
    "version": 2
   },
   "file_extension": ".py",
   "mimetype": "text/x-python",
   "name": "python",
   "nbconvert_exporter": "python",
   "pygments_lexer": "ipython2",
   "version": "2.7.14"
  }
 },
 "nbformat": 4,
 "nbformat_minor": 2
}
