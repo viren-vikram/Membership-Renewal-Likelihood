{
 "cells": [
  {
   "cell_type": "markdown",
   "metadata": {
    "scrolled": true
   },
   "source": [
    "# Section contains regression based models"
   ]
  },
  {
   "cell_type": "code",
   "execution_count": 1,
   "metadata": {
    "collapsed": true
   },
   "outputs": [],
   "source": [
    "# NumPy for numerical computing\n",
    "import numpy as np\n",
    "\n",
    "# Pandas for DataFrames\n",
    "import pandas as pd\n",
    "pd.set_option('display.max_columns', 100)\n",
    "\n",
    "\n",
    "# Matplotlib for visualization\n",
    "from matplotlib import pyplot as plt\n",
    "# display plots in the notebook\n",
    "%matplotlib inline \n",
    "\n",
    "# Seaborn for easier visualization\n",
    "import seaborn as sns\n",
    "\n",
    "# Scikit-Learn for Modeling\n",
    "import sklearn"
   ]
  },
  {
   "cell_type": "code",
   "execution_count": 2,
   "metadata": {
    "collapsed": true
   },
   "outputs": [],
   "source": [
    "# Import Elastic Net, Ridge Regression, and Lasso Regression\n",
    "from sklearn.linear_model import ElasticNet, Ridge, Lasso\n",
    "\n",
    "# Import Random Forest and Gradient Boosted Trees\n",
    "from sklearn.ensemble import RandomForestRegressor, GradientBoostingRegressor"
   ]
  },
  {
   "cell_type": "code",
   "execution_count": 3,
   "metadata": {},
   "outputs": [
    {
     "name": "stdout",
     "output_type": "stream",
     "text": [
      "(1018, 13)\n"
     ]
    },
    {
     "data": {
      "text/html": [
       "<div>\n",
       "<style>\n",
       "    .dataframe thead tr:only-child th {\n",
       "        text-align: right;\n",
       "    }\n",
       "\n",
       "    .dataframe thead th {\n",
       "        text-align: left;\n",
       "    }\n",
       "\n",
       "    .dataframe tbody tr th {\n",
       "        vertical-align: top;\n",
       "    }\n",
       "</style>\n",
       "<table border=\"1\" class=\"dataframe\">\n",
       "  <thead>\n",
       "    <tr style=\"text-align: right;\">\n",
       "      <th></th>\n",
       "      <th>AcctType</th>\n",
       "      <th>ExecFlag</th>\n",
       "      <th>CreditCardFlag</th>\n",
       "      <th>AutoBillFlag</th>\n",
       "      <th>15_Shops</th>\n",
       "      <th>15_Spend</th>\n",
       "      <th>16_Shops</th>\n",
       "      <th>16_Spend</th>\n",
       "      <th>Duration</th>\n",
       "      <th>Age</th>\n",
       "      <th>GMiss</th>\n",
       "      <th>Gender_1.0</th>\n",
       "      <th>Gender_2.0</th>\n",
       "    </tr>\n",
       "  </thead>\n",
       "  <tbody>\n",
       "    <tr>\n",
       "      <th>0</th>\n",
       "      <td>0</td>\n",
       "      <td>0</td>\n",
       "      <td>0</td>\n",
       "      <td>0</td>\n",
       "      <td>2.0</td>\n",
       "      <td>369.58</td>\n",
       "      <td>1.0</td>\n",
       "      <td>63.45</td>\n",
       "      <td>168.019877</td>\n",
       "      <td>63.588</td>\n",
       "      <td>1</td>\n",
       "      <td>0</td>\n",
       "      <td>0</td>\n",
       "    </tr>\n",
       "    <tr>\n",
       "      <th>1</th>\n",
       "      <td>0</td>\n",
       "      <td>0</td>\n",
       "      <td>0</td>\n",
       "      <td>0</td>\n",
       "      <td>9.0</td>\n",
       "      <td>2205.18</td>\n",
       "      <td>8.0</td>\n",
       "      <td>2240.88</td>\n",
       "      <td>60.025873</td>\n",
       "      <td>45.006</td>\n",
       "      <td>1</td>\n",
       "      <td>0</td>\n",
       "      <td>0</td>\n",
       "    </tr>\n",
       "    <tr>\n",
       "      <th>2</th>\n",
       "      <td>0</td>\n",
       "      <td>0</td>\n",
       "      <td>0</td>\n",
       "      <td>0</td>\n",
       "      <td>23.0</td>\n",
       "      <td>2334.16</td>\n",
       "      <td>5.0</td>\n",
       "      <td>403.52</td>\n",
       "      <td>23.984065</td>\n",
       "      <td>35.168</td>\n",
       "      <td>1</td>\n",
       "      <td>0</td>\n",
       "      <td>0</td>\n",
       "    </tr>\n",
       "    <tr>\n",
       "      <th>3</th>\n",
       "      <td>1</td>\n",
       "      <td>1</td>\n",
       "      <td>0</td>\n",
       "      <td>0</td>\n",
       "      <td>11.0</td>\n",
       "      <td>1808.86</td>\n",
       "      <td>2.0</td>\n",
       "      <td>341.02</td>\n",
       "      <td>99.977412</td>\n",
       "      <td>60.007</td>\n",
       "      <td>0</td>\n",
       "      <td>0</td>\n",
       "      <td>1</td>\n",
       "    </tr>\n",
       "    <tr>\n",
       "      <th>4</th>\n",
       "      <td>1</td>\n",
       "      <td>0</td>\n",
       "      <td>0</td>\n",
       "      <td>0</td>\n",
       "      <td>5.0</td>\n",
       "      <td>1145.72</td>\n",
       "      <td>4.0</td>\n",
       "      <td>376.13</td>\n",
       "      <td>188.028502</td>\n",
       "      <td>49.501</td>\n",
       "      <td>1</td>\n",
       "      <td>0</td>\n",
       "      <td>0</td>\n",
       "    </tr>\n",
       "  </tbody>\n",
       "</table>\n",
       "</div>"
      ],
      "text/plain": [
       "   AcctType  ExecFlag  CreditCardFlag  AutoBillFlag  15_Shops  15_Spend  \\\n",
       "0         0         0               0             0       2.0    369.58   \n",
       "1         0         0               0             0       9.0   2205.18   \n",
       "2         0         0               0             0      23.0   2334.16   \n",
       "3         1         1               0             0      11.0   1808.86   \n",
       "4         1         0               0             0       5.0   1145.72   \n",
       "\n",
       "   16_Shops  16_Spend    Duration     Age  GMiss  Gender_1.0  Gender_2.0  \n",
       "0       1.0     63.45  168.019877  63.588      1           0           0  \n",
       "1       8.0   2240.88   60.025873  45.006      1           0           0  \n",
       "2       5.0    403.52   23.984065  35.168      1           0           0  \n",
       "3       2.0    341.02   99.977412  60.007      0           0           1  \n",
       "4       4.0    376.13  188.028502  49.501      1           0           0  "
      ]
     },
     "execution_count": 3,
     "metadata": {},
     "output_type": "execute_result"
    }
   ],
   "source": [
    "# Load cleaned dataset from Module 3\n",
    "df = pd.read_csv('dataset.csv')\n",
    "print(df.shape)\n",
    "\n",
    "df.head()"
   ]
  },
  {
   "cell_type": "code",
   "execution_count": 4,
   "metadata": {
    "collapsed": true
   },
   "outputs": [],
   "source": [
    "# Function for splitting training and test set\n",
    "from sklearn.model_selection import train_test_split"
   ]
  },
  {
   "cell_type": "code",
   "execution_count": 5,
   "metadata": {
    "collapsed": true
   },
   "outputs": [],
   "source": [
    "# Create separate object for target variable\n",
    "y=df.Duration\n",
    "# Create separate object for input features\n",
    "X=df.drop('Duration',axis=1)"
   ]
  },
  {
   "cell_type": "code",
   "execution_count": 6,
   "metadata": {},
   "outputs": [
    {
     "data": {
      "text/plain": [
       "count    204.000000\n",
       "mean      98.050409\n",
       "std       75.967089\n",
       "min       11.992033\n",
       "25%       36.008953\n",
       "50%       82.498614\n",
       "75%      130.729584\n",
       "max      384.007885\n",
       "Name: Duration, dtype: float64"
      ]
     },
     "execution_count": 6,
     "metadata": {},
     "output_type": "execute_result"
    }
   ],
   "source": [
    "# Split X and y into train and test sets\n",
    "X_train, X_test, y_train, y_test = train_test_split(X,y,test_size=.2,random_state=1234)\n",
    "y_test.describe()\n"
   ]
  },
  {
   "cell_type": "code",
   "execution_count": 7,
   "metadata": {},
   "outputs": [
    {
     "name": "stdout",
     "output_type": "stream",
     "text": [
      "(814, 204, 814, 204)\n"
     ]
    }
   ],
   "source": [
    "print( len(X_train), len(X_test), len(y_train), len(y_test) )"
   ]
  },
  {
   "cell_type": "code",
   "execution_count": 8,
   "metadata": {},
   "outputs": [
    {
     "data": {
      "text/html": [
       "<div>\n",
       "<style>\n",
       "    .dataframe thead tr:only-child th {\n",
       "        text-align: right;\n",
       "    }\n",
       "\n",
       "    .dataframe thead th {\n",
       "        text-align: left;\n",
       "    }\n",
       "\n",
       "    .dataframe tbody tr th {\n",
       "        vertical-align: top;\n",
       "    }\n",
       "</style>\n",
       "<table border=\"1\" class=\"dataframe\">\n",
       "  <thead>\n",
       "    <tr style=\"text-align: right;\">\n",
       "      <th></th>\n",
       "      <th>AcctType</th>\n",
       "      <th>ExecFlag</th>\n",
       "      <th>CreditCardFlag</th>\n",
       "      <th>AutoBillFlag</th>\n",
       "      <th>15_Shops</th>\n",
       "      <th>15_Spend</th>\n",
       "      <th>16_Shops</th>\n",
       "      <th>16_Spend</th>\n",
       "      <th>Age</th>\n",
       "      <th>GMiss</th>\n",
       "      <th>Gender_1.0</th>\n",
       "      <th>Gender_2.0</th>\n",
       "    </tr>\n",
       "  </thead>\n",
       "  <tbody>\n",
       "    <tr>\n",
       "      <th>count</th>\n",
       "      <td>814.000000</td>\n",
       "      <td>814.000000</td>\n",
       "      <td>814.000000</td>\n",
       "      <td>814.000000</td>\n",
       "      <td>814.000000</td>\n",
       "      <td>814.000000</td>\n",
       "      <td>814.000000</td>\n",
       "      <td>814.000000</td>\n",
       "      <td>814.000000</td>\n",
       "      <td>814.000000</td>\n",
       "      <td>814.000000</td>\n",
       "      <td>814.000000</td>\n",
       "    </tr>\n",
       "    <tr>\n",
       "      <th>mean</th>\n",
       "      <td>0.108108</td>\n",
       "      <td>0.297297</td>\n",
       "      <td>0.006143</td>\n",
       "      <td>0.003686</td>\n",
       "      <td>14.985258</td>\n",
       "      <td>1849.367211</td>\n",
       "      <td>6.676904</td>\n",
       "      <td>780.901167</td>\n",
       "      <td>47.027006</td>\n",
       "      <td>0.610565</td>\n",
       "      <td>0.153563</td>\n",
       "      <td>0.235872</td>\n",
       "    </tr>\n",
       "    <tr>\n",
       "      <th>std</th>\n",
       "      <td>0.310708</td>\n",
       "      <td>0.457350</td>\n",
       "      <td>0.078181</td>\n",
       "      <td>0.060634</td>\n",
       "      <td>16.645934</td>\n",
       "      <td>3323.116957</td>\n",
       "      <td>9.159783</td>\n",
       "      <td>1068.338882</td>\n",
       "      <td>14.418273</td>\n",
       "      <td>0.487922</td>\n",
       "      <td>0.360751</td>\n",
       "      <td>0.424804</td>\n",
       "    </tr>\n",
       "    <tr>\n",
       "      <th>min</th>\n",
       "      <td>0.000000</td>\n",
       "      <td>0.000000</td>\n",
       "      <td>0.000000</td>\n",
       "      <td>0.000000</td>\n",
       "      <td>1.000000</td>\n",
       "      <td>12.980000</td>\n",
       "      <td>1.000000</td>\n",
       "      <td>-214.760000</td>\n",
       "      <td>23.839000</td>\n",
       "      <td>0.000000</td>\n",
       "      <td>0.000000</td>\n",
       "      <td>0.000000</td>\n",
       "    </tr>\n",
       "    <tr>\n",
       "      <th>25%</th>\n",
       "      <td>0.000000</td>\n",
       "      <td>0.000000</td>\n",
       "      <td>0.000000</td>\n",
       "      <td>0.000000</td>\n",
       "      <td>4.000000</td>\n",
       "      <td>635.860000</td>\n",
       "      <td>1.000000</td>\n",
       "      <td>162.295000</td>\n",
       "      <td>35.692500</td>\n",
       "      <td>0.000000</td>\n",
       "      <td>0.000000</td>\n",
       "      <td>0.000000</td>\n",
       "    </tr>\n",
       "    <tr>\n",
       "      <th>50%</th>\n",
       "      <td>0.000000</td>\n",
       "      <td>0.000000</td>\n",
       "      <td>0.000000</td>\n",
       "      <td>0.000000</td>\n",
       "      <td>9.000000</td>\n",
       "      <td>1222.510000</td>\n",
       "      <td>3.000000</td>\n",
       "      <td>405.420000</td>\n",
       "      <td>44.253000</td>\n",
       "      <td>1.000000</td>\n",
       "      <td>0.000000</td>\n",
       "      <td>0.000000</td>\n",
       "    </tr>\n",
       "    <tr>\n",
       "      <th>75%</th>\n",
       "      <td>0.000000</td>\n",
       "      <td>1.000000</td>\n",
       "      <td>0.000000</td>\n",
       "      <td>0.000000</td>\n",
       "      <td>19.000000</td>\n",
       "      <td>2259.367500</td>\n",
       "      <td>7.000000</td>\n",
       "      <td>939.047500</td>\n",
       "      <td>56.378250</td>\n",
       "      <td>1.000000</td>\n",
       "      <td>0.000000</td>\n",
       "      <td>0.000000</td>\n",
       "    </tr>\n",
       "    <tr>\n",
       "      <th>max</th>\n",
       "      <td>1.000000</td>\n",
       "      <td>1.000000</td>\n",
       "      <td>1.000000</td>\n",
       "      <td>1.000000</td>\n",
       "      <td>139.000000</td>\n",
       "      <td>82892.860000</td>\n",
       "      <td>73.000000</td>\n",
       "      <td>11902.700000</td>\n",
       "      <td>96.673000</td>\n",
       "      <td>1.000000</td>\n",
       "      <td>1.000000</td>\n",
       "      <td>1.000000</td>\n",
       "    </tr>\n",
       "  </tbody>\n",
       "</table>\n",
       "</div>"
      ],
      "text/plain": [
       "         AcctType    ExecFlag  CreditCardFlag  AutoBillFlag    15_Shops  \\\n",
       "count  814.000000  814.000000      814.000000    814.000000  814.000000   \n",
       "mean     0.108108    0.297297        0.006143      0.003686   14.985258   \n",
       "std      0.310708    0.457350        0.078181      0.060634   16.645934   \n",
       "min      0.000000    0.000000        0.000000      0.000000    1.000000   \n",
       "25%      0.000000    0.000000        0.000000      0.000000    4.000000   \n",
       "50%      0.000000    0.000000        0.000000      0.000000    9.000000   \n",
       "75%      0.000000    1.000000        0.000000      0.000000   19.000000   \n",
       "max      1.000000    1.000000        1.000000      1.000000  139.000000   \n",
       "\n",
       "           15_Spend    16_Shops      16_Spend         Age       GMiss  \\\n",
       "count    814.000000  814.000000    814.000000  814.000000  814.000000   \n",
       "mean    1849.367211    6.676904    780.901167   47.027006    0.610565   \n",
       "std     3323.116957    9.159783   1068.338882   14.418273    0.487922   \n",
       "min       12.980000    1.000000   -214.760000   23.839000    0.000000   \n",
       "25%      635.860000    1.000000    162.295000   35.692500    0.000000   \n",
       "50%     1222.510000    3.000000    405.420000   44.253000    1.000000   \n",
       "75%     2259.367500    7.000000    939.047500   56.378250    1.000000   \n",
       "max    82892.860000   73.000000  11902.700000   96.673000    1.000000   \n",
       "\n",
       "       Gender_1.0  Gender_2.0  \n",
       "count  814.000000  814.000000  \n",
       "mean     0.153563    0.235872  \n",
       "std      0.360751    0.424804  \n",
       "min      0.000000    0.000000  \n",
       "25%      0.000000    0.000000  \n",
       "50%      0.000000    0.000000  \n",
       "75%      0.000000    0.000000  \n",
       "max      1.000000    1.000000  "
      ]
     },
     "execution_count": 8,
     "metadata": {},
     "output_type": "execute_result"
    }
   ],
   "source": [
    "# Summary statistics of X_train\n",
    "X_train.describe()"
   ]
  },
  {
   "cell_type": "code",
   "execution_count": 9,
   "metadata": {
    "collapsed": true
   },
   "outputs": [],
   "source": [
    "# Standardize X_train\n",
    "X_train_new=(X_train-X_train.mean())/X_train.std()"
   ]
  },
  {
   "cell_type": "code",
   "execution_count": 10,
   "metadata": {},
   "outputs": [
    {
     "data": {
      "text/html": [
       "<div>\n",
       "<style>\n",
       "    .dataframe thead tr:only-child th {\n",
       "        text-align: right;\n",
       "    }\n",
       "\n",
       "    .dataframe thead th {\n",
       "        text-align: left;\n",
       "    }\n",
       "\n",
       "    .dataframe tbody tr th {\n",
       "        vertical-align: top;\n",
       "    }\n",
       "</style>\n",
       "<table border=\"1\" class=\"dataframe\">\n",
       "  <thead>\n",
       "    <tr style=\"text-align: right;\">\n",
       "      <th></th>\n",
       "      <th>AcctType</th>\n",
       "      <th>ExecFlag</th>\n",
       "      <th>CreditCardFlag</th>\n",
       "      <th>AutoBillFlag</th>\n",
       "      <th>15_Shops</th>\n",
       "      <th>15_Spend</th>\n",
       "      <th>16_Shops</th>\n",
       "      <th>16_Spend</th>\n",
       "      <th>Age</th>\n",
       "      <th>GMiss</th>\n",
       "      <th>Gender_1.0</th>\n",
       "      <th>Gender_2.0</th>\n",
       "    </tr>\n",
       "  </thead>\n",
       "  <tbody>\n",
       "    <tr>\n",
       "      <th>count</th>\n",
       "      <td>8.140000e+02</td>\n",
       "      <td>8.140000e+02</td>\n",
       "      <td>8.140000e+02</td>\n",
       "      <td>8.140000e+02</td>\n",
       "      <td>8.140000e+02</td>\n",
       "      <td>8.140000e+02</td>\n",
       "      <td>8.140000e+02</td>\n",
       "      <td>8.140000e+02</td>\n",
       "      <td>8.140000e+02</td>\n",
       "      <td>8.140000e+02</td>\n",
       "      <td>8.140000e+02</td>\n",
       "      <td>8.140000e+02</td>\n",
       "    </tr>\n",
       "    <tr>\n",
       "      <th>mean</th>\n",
       "      <td>7.692454e-17</td>\n",
       "      <td>-2.182257e-18</td>\n",
       "      <td>8.729026e-18</td>\n",
       "      <td>-6.932074e-17</td>\n",
       "      <td>-7.569702e-17</td>\n",
       "      <td>7.002316e-16</td>\n",
       "      <td>2.864212e-18</td>\n",
       "      <td>6.301266e-16</td>\n",
       "      <td>-1.235566e-15</td>\n",
       "      <td>-2.569607e-16</td>\n",
       "      <td>2.607797e-16</td>\n",
       "      <td>-7.146890e-17</td>\n",
       "    </tr>\n",
       "    <tr>\n",
       "      <th>std</th>\n",
       "      <td>1.000000e+00</td>\n",
       "      <td>1.000000e+00</td>\n",
       "      <td>1.000000e+00</td>\n",
       "      <td>1.000000e+00</td>\n",
       "      <td>1.000000e+00</td>\n",
       "      <td>1.000000e+00</td>\n",
       "      <td>1.000000e+00</td>\n",
       "      <td>1.000000e+00</td>\n",
       "      <td>1.000000e+00</td>\n",
       "      <td>1.000000e+00</td>\n",
       "      <td>1.000000e+00</td>\n",
       "      <td>1.000000e+00</td>\n",
       "    </tr>\n",
       "    <tr>\n",
       "      <th>min</th>\n",
       "      <td>-3.479414e-01</td>\n",
       "      <td>-6.500440e-01</td>\n",
       "      <td>-7.856766e-02</td>\n",
       "      <td>-6.078316e-02</td>\n",
       "      <td>-8.401606e-01</td>\n",
       "      <td>-5.526099e-01</td>\n",
       "      <td>-6.197640e-01</td>\n",
       "      <td>-9.319713e-01</td>\n",
       "      <td>-1.608237e+00</td>\n",
       "      <td>-1.251358e+00</td>\n",
       "      <td>-4.256753e-01</td>\n",
       "      <td>-5.552499e-01</td>\n",
       "    </tr>\n",
       "    <tr>\n",
       "      <th>25%</th>\n",
       "      <td>-3.479414e-01</td>\n",
       "      <td>-6.500440e-01</td>\n",
       "      <td>-7.856766e-02</td>\n",
       "      <td>-6.078316e-02</td>\n",
       "      <td>-6.599364e-01</td>\n",
       "      <td>-3.651714e-01</td>\n",
       "      <td>-6.197640e-01</td>\n",
       "      <td>-5.790355e-01</td>\n",
       "      <td>-7.861209e-01</td>\n",
       "      <td>-1.251358e+00</td>\n",
       "      <td>-4.256753e-01</td>\n",
       "      <td>-5.552499e-01</td>\n",
       "    </tr>\n",
       "    <tr>\n",
       "      <th>50%</th>\n",
       "      <td>-3.479414e-01</td>\n",
       "      <td>-6.500440e-01</td>\n",
       "      <td>-7.856766e-02</td>\n",
       "      <td>-6.078316e-02</td>\n",
       "      <td>-3.595628e-01</td>\n",
       "      <td>-1.886353e-01</td>\n",
       "      <td>-4.014182e-01</td>\n",
       "      <td>-3.514626e-01</td>\n",
       "      <td>-1.923952e-01</td>\n",
       "      <td>7.981500e-01</td>\n",
       "      <td>-4.256753e-01</td>\n",
       "      <td>-5.552499e-01</td>\n",
       "    </tr>\n",
       "    <tr>\n",
       "      <th>75%</th>\n",
       "      <td>-3.479414e-01</td>\n",
       "      <td>1.536468e+00</td>\n",
       "      <td>-7.856766e-02</td>\n",
       "      <td>-6.078316e-02</td>\n",
       "      <td>2.411845e-01</td>\n",
       "      <td>1.233782e-01</td>\n",
       "      <td>3.527330e-02</td>\n",
       "      <td>1.480301e-01</td>\n",
       "      <td>6.485689e-01</td>\n",
       "      <td>7.981500e-01</td>\n",
       "      <td>-4.256753e-01</td>\n",
       "      <td>-5.552499e-01</td>\n",
       "    </tr>\n",
       "    <tr>\n",
       "      <th>max</th>\n",
       "      <td>2.870516e+00</td>\n",
       "      <td>1.536468e+00</td>\n",
       "      <td>1.271225e+01</td>\n",
       "      <td>1.643171e+01</td>\n",
       "      <td>7.450152e+00</td>\n",
       "      <td>2.438779e+01</td>\n",
       "      <td>7.240684e+00</td>\n",
       "      <td>1.041037e+01</td>\n",
       "      <td>3.443269e+00</td>\n",
       "      <td>7.981500e-01</td>\n",
       "      <td>2.346322e+00</td>\n",
       "      <td>1.798778e+00</td>\n",
       "    </tr>\n",
       "  </tbody>\n",
       "</table>\n",
       "</div>"
      ],
      "text/plain": [
       "           AcctType      ExecFlag  CreditCardFlag  AutoBillFlag      15_Shops  \\\n",
       "count  8.140000e+02  8.140000e+02    8.140000e+02  8.140000e+02  8.140000e+02   \n",
       "mean   7.692454e-17 -2.182257e-18    8.729026e-18 -6.932074e-17 -7.569702e-17   \n",
       "std    1.000000e+00  1.000000e+00    1.000000e+00  1.000000e+00  1.000000e+00   \n",
       "min   -3.479414e-01 -6.500440e-01   -7.856766e-02 -6.078316e-02 -8.401606e-01   \n",
       "25%   -3.479414e-01 -6.500440e-01   -7.856766e-02 -6.078316e-02 -6.599364e-01   \n",
       "50%   -3.479414e-01 -6.500440e-01   -7.856766e-02 -6.078316e-02 -3.595628e-01   \n",
       "75%   -3.479414e-01  1.536468e+00   -7.856766e-02 -6.078316e-02  2.411845e-01   \n",
       "max    2.870516e+00  1.536468e+00    1.271225e+01  1.643171e+01  7.450152e+00   \n",
       "\n",
       "           15_Spend      16_Shops      16_Spend           Age         GMiss  \\\n",
       "count  8.140000e+02  8.140000e+02  8.140000e+02  8.140000e+02  8.140000e+02   \n",
       "mean   7.002316e-16  2.864212e-18  6.301266e-16 -1.235566e-15 -2.569607e-16   \n",
       "std    1.000000e+00  1.000000e+00  1.000000e+00  1.000000e+00  1.000000e+00   \n",
       "min   -5.526099e-01 -6.197640e-01 -9.319713e-01 -1.608237e+00 -1.251358e+00   \n",
       "25%   -3.651714e-01 -6.197640e-01 -5.790355e-01 -7.861209e-01 -1.251358e+00   \n",
       "50%   -1.886353e-01 -4.014182e-01 -3.514626e-01 -1.923952e-01  7.981500e-01   \n",
       "75%    1.233782e-01  3.527330e-02  1.480301e-01  6.485689e-01  7.981500e-01   \n",
       "max    2.438779e+01  7.240684e+00  1.041037e+01  3.443269e+00  7.981500e-01   \n",
       "\n",
       "         Gender_1.0    Gender_2.0  \n",
       "count  8.140000e+02  8.140000e+02  \n",
       "mean   2.607797e-16 -7.146890e-17  \n",
       "std    1.000000e+00  1.000000e+00  \n",
       "min   -4.256753e-01 -5.552499e-01  \n",
       "25%   -4.256753e-01 -5.552499e-01  \n",
       "50%   -4.256753e-01 -5.552499e-01  \n",
       "75%   -4.256753e-01 -5.552499e-01  \n",
       "max    2.346322e+00  1.798778e+00  "
      ]
     },
     "execution_count": 10,
     "metadata": {},
     "output_type": "execute_result"
    }
   ],
   "source": [
    "# Summary statistics of X_train_new\n",
    "X_train_new.describe()"
   ]
  },
  {
   "cell_type": "code",
   "execution_count": 11,
   "metadata": {
    "collapsed": true
   },
   "outputs": [],
   "source": [
    "# Function for creating model pipelines\n",
    "from sklearn.pipeline import make_pipeline"
   ]
  },
  {
   "cell_type": "code",
   "execution_count": 12,
   "metadata": {
    "collapsed": true
   },
   "outputs": [],
   "source": [
    "# For standardization\n",
    "from sklearn.preprocessing import StandardScaler"
   ]
  },
  {
   "cell_type": "code",
   "execution_count": 13,
   "metadata": {
    "collapsed": true
   },
   "outputs": [],
   "source": [
    "# Create pipelines dictionary\n",
    "pipelines={'lasso':make_pipeline(StandardScaler(), Lasso(random_state=123)),\n",
    "           'ridge':make_pipeline(StandardScaler(),Ridge(random_state=123)),\n",
    "           'enet' :make_pipeline(StandardScaler(),ElasticNet(random_state=123)),\n",
    "           # Add a pipeline for 'rf'\n",
    "            'rf'  :make_pipeline(StandardScaler(),RandomForestRegressor(random_state=123)),\n",
    "            # Add a pipeline for 'gb'\n",
    "            'gb'  :make_pipeline(StandardScaler(),GradientBoostingRegressor(random_state=123))\n",
    "    \n",
    "}"
   ]
  },
  {
   "cell_type": "code",
   "execution_count": null,
   "metadata": {
    "collapsed": true
   },
   "outputs": [],
   "source": []
  },
  {
   "cell_type": "code",
   "execution_count": null,
   "metadata": {
    "collapsed": true
   },
   "outputs": [],
   "source": []
  },
  {
   "cell_type": "code",
   "execution_count": null,
   "metadata": {
    "collapsed": true
   },
   "outputs": [],
   "source": []
  },
  {
   "cell_type": "code",
   "execution_count": 14,
   "metadata": {
    "collapsed": true
   },
   "outputs": [],
   "source": [
    "# Lasso hyperparameters\n",
    "lasso_hyperparameters={'lasso__alpha':[.001,.005,.01,.05,.1,.5,1,5,10]}\n",
    "# Ridge hyperparameters\n",
    "ridge_hyperparameters={'ridge__alpha':[.001,.005,.01,.05,.1,.5,1,5,10]}"
   ]
  },
  {
   "cell_type": "code",
   "execution_count": 15,
   "metadata": {
    "collapsed": true
   },
   "outputs": [],
   "source": [
    "# Elastic Net hyperparameters\n",
    "enet_hyperparameters={\n",
    "    'elasticnet__alpha':[.001,.005,.01,.05,.1,.5,1,5,10],\n",
    "    'elasticnet__l1_ratio':[0.1,0.3,0.5,0.7,0.9]\n",
    "}"
   ]
  },
  {
   "cell_type": "code",
   "execution_count": 16,
   "metadata": {
    "collapsed": true
   },
   "outputs": [],
   "source": [
    "# Random forest hyperparameters\n",
    "rf_hyperparameters={\n",
    "    'randomforestregressor__n_estimators':[100,200],\n",
    "    'randomforestregressor__max_features':['auto','sqrt',0.33]\n",
    "}"
   ]
  },
  {
   "cell_type": "code",
   "execution_count": 17,
   "metadata": {
    "collapsed": true
   },
   "outputs": [],
   "source": [
    "# Boosted tree hyperparameters\n",
    "gb_hyperparameters={\n",
    "    'gradientboostingregressor__n_estimators':[100,200],\n",
    "    'gradientboostingregressor__learning_rate':[.05,.1,.2],\n",
    "    'gradientboostingregressor__max_depth':[1,3,5]\n",
    "}"
   ]
  },
  {
   "cell_type": "code",
   "execution_count": 18,
   "metadata": {},
   "outputs": [
    {
     "data": {
      "text/plain": [
       "['enet', 'gb', 'ridge', 'rf', 'lasso']"
      ]
     },
     "execution_count": 18,
     "metadata": {},
     "output_type": "execute_result"
    }
   ],
   "source": [
    "pipelines.keys()"
   ]
  },
  {
   "cell_type": "code",
   "execution_count": 19,
   "metadata": {
    "collapsed": true
   },
   "outputs": [],
   "source": [
    "# Create hyperparameters dictionary\n",
    "hyperparameters={'enet':enet_hyperparameters,\n",
    "                 'gb':gb_hyperparameters,'ridge':ridge_hyperparameters,\n",
    "                 'rf':rf_hyperparameters,'lasso':lasso_hyperparameters}"
   ]
  },
  {
   "cell_type": "code",
   "execution_count": 20,
   "metadata": {},
   "outputs": [
    {
     "name": "stdout",
     "output_type": "stream",
     "text": [
      "('enet', 'was found in hyperparameters, and it is a grid.')\n",
      "('gb', 'was found in hyperparameters, and it is a grid.')\n",
      "('ridge', 'was found in hyperparameters, and it is a grid.')\n",
      "('rf', 'was found in hyperparameters, and it is a grid.')\n",
      "('lasso', 'was found in hyperparameters, and it is a grid.')\n"
     ]
    }
   ],
   "source": [
    "for key in ['enet', 'gb', 'ridge', 'rf', 'lasso']:\n",
    "    if key in hyperparameters:\n",
    "        if type(hyperparameters[key]) is dict:\n",
    "            print( key, 'was found in hyperparameters, and it is a grid.' )\n",
    "        else:\n",
    "            print( key, 'was found in hyperparameters, but it is not a grid.' )\n",
    "    else:\n",
    "        print( key, 'was not found in hyperparameters')"
   ]
  },
  {
   "cell_type": "code",
   "execution_count": 21,
   "metadata": {
    "collapsed": true
   },
   "outputs": [],
   "source": [
    "# Helper for cross-validation\n",
    "from sklearn.model_selection import GridSearchCV"
   ]
  },
  {
   "cell_type": "code",
   "execution_count": 22,
   "metadata": {
    "collapsed": true
   },
   "outputs": [],
   "source": [
    "# Create cross-validation object from Lasso pipeline and Lasso hyperparameters\n",
    "model=GridSearchCV(pipelines['lasso'],hyperparameters['lasso'],cv=10,n_jobs=-1)"
   ]
  },
  {
   "cell_type": "code",
   "execution_count": 23,
   "metadata": {},
   "outputs": [
    {
     "data": {
      "text/plain": [
       "GridSearchCV(cv=10, error_score='raise',\n",
       "       estimator=Pipeline(memory=None,\n",
       "     steps=[('standardscaler', StandardScaler(copy=True, with_mean=True, with_std=True)), ('lasso', Lasso(alpha=1.0, copy_X=True, fit_intercept=True, max_iter=1000,\n",
       "   normalize=False, positive=False, precompute=False, random_state=123,\n",
       "   selection='cyclic', tol=0.0001, warm_start=False))]),\n",
       "       fit_params=None, iid=True, n_jobs=-1,\n",
       "       param_grid={'lasso__alpha': [0.001, 0.005, 0.01, 0.05, 0.1, 0.5, 1, 5, 10]},\n",
       "       pre_dispatch='2*n_jobs', refit=True, return_train_score='warn',\n",
       "       scoring=None, verbose=0)"
      ]
     },
     "execution_count": 23,
     "metadata": {},
     "output_type": "execute_result"
    }
   ],
   "source": [
    "# Fit and tune model\n",
    "model.fit(X_train,y_train)"
   ]
  },
  {
   "cell_type": "code",
   "execution_count": null,
   "metadata": {
    "collapsed": true
   },
   "outputs": [],
   "source": []
  },
  {
   "cell_type": "code",
   "execution_count": 24,
   "metadata": {},
   "outputs": [
    {
     "name": "stdout",
     "output_type": "stream",
     "text": [
      "('enet', 'has been fitted.')\n",
      "('gb', 'has been fitted.')\n",
      "('ridge', 'has been fitted.')\n",
      "('rf', 'has been fitted.')\n",
      "('lasso', 'has been fitted.')\n"
     ]
    }
   ],
   "source": [
    "# Create empty dictionary called fitted_models\n",
    "fitted_models = {}\n",
    "\n",
    "# Loop through model pipelines, tuning each one and saving it to fitted_models\n",
    "for name, pipeline in pipelines.items():\n",
    "    # Create cross-validation object from pipeline and hyperparameters\n",
    "    model=GridSearchCV(pipeline,hyperparameters[name],cv=10,n_jobs=-1)\n",
    "                 \n",
    "    \n",
    "    # Fit model on X_train, y_train\n",
    "    x=model.fit(X_train,y_train)\n",
    "    \n",
    "    # Store model in fitted_models[name] \n",
    "    fitted_models[name]=model\n",
    "    \n",
    "    # Print '{name} has been fitted'\n",
    "    print(name, 'has been fitted.')"
   ]
  },
  {
   "cell_type": "code",
   "execution_count": null,
   "metadata": {
    "collapsed": true
   },
   "outputs": [],
   "source": []
  },
  {
   "cell_type": "code",
   "execution_count": 25,
   "metadata": {},
   "outputs": [
    {
     "name": "stdout",
     "output_type": "stream",
     "text": [
      "('enet', 'has been fitted.')\n",
      "('lasso', 'has been fitted.')\n",
      "('ridge', 'has been fitted.')\n",
      "('gb', 'has been fitted.')\n",
      "('rf', 'has been fitted.')\n"
     ]
    }
   ],
   "source": [
    "from sklearn.exceptions import NotFittedError\n",
    "\n",
    "for name, model in fitted_models.items():\n",
    "    try:\n",
    "        pred = model.predict(X_test)\n",
    "        print(name, 'has been fitted.')\n",
    "    except NotFittedError as e:\n",
    "        print(repr(e))"
   ]
  },
  {
   "cell_type": "code",
   "execution_count": 26,
   "metadata": {},
   "outputs": [
    {
     "name": "stdout",
     "output_type": "stream",
     "text": [
      "('enet', 0.2170006024049056)\n",
      "('lasso', 0.22038388030154174)\n",
      "('ridge', 0.1965179462503453)\n",
      "('gb', 0.21620171252290071)\n",
      "('rf', 0.20065348950703174)\n"
     ]
    }
   ],
   "source": [
    "# Display best_score_ for each fitted model\n",
    "for name, models in fitted_models.items():\n",
    "    print(name,models.best_score_)"
   ]
  },
  {
   "cell_type": "code",
   "execution_count": 27,
   "metadata": {
    "collapsed": true
   },
   "outputs": [],
   "source": [
    "# Import r2_score and mean_absolute_error functions\n",
    "from sklearn.metrics import r2_score\n",
    "from sklearn.metrics import mean_absolute_error"
   ]
  },
  {
   "cell_type": "code",
   "execution_count": 28,
   "metadata": {},
   "outputs": [
    {
     "data": {
      "text/plain": [
       "GridSearchCV(cv=10, error_score='raise',\n",
       "       estimator=Pipeline(memory=None,\n",
       "     steps=[('standardscaler', StandardScaler(copy=True, with_mean=True, with_std=True)), ('randomforestregressor', RandomForestRegressor(bootstrap=True, criterion='mse', max_depth=None,\n",
       "           max_features='auto', max_leaf_nodes=None,\n",
       "           min_impurity_decr...timators=10, n_jobs=1,\n",
       "           oob_score=False, random_state=123, verbose=0, warm_start=False))]),\n",
       "       fit_params=None, iid=True, n_jobs=-1,\n",
       "       param_grid={'randomforestregressor__n_estimators': [100, 200], 'randomforestregressor__max_features': ['auto', 'sqrt', 0.33]},\n",
       "       pre_dispatch='2*n_jobs', refit=True, return_train_score='warn',\n",
       "       scoring=None, verbose=0)"
      ]
     },
     "execution_count": 28,
     "metadata": {},
     "output_type": "execute_result"
    }
   ],
   "source": [
    "# Display fitted random forest object\n",
    "fitted_models['rf']"
   ]
  },
  {
   "cell_type": "code",
   "execution_count": 29,
   "metadata": {
    "collapsed": true
   },
   "outputs": [],
   "source": [
    "# Predict test set using fitted random forest\n",
    "pred=fitted_models['rf'].predict(X_test)"
   ]
  },
  {
   "cell_type": "code",
   "execution_count": 30,
   "metadata": {},
   "outputs": [
    {
     "name": "stdout",
     "output_type": "stream",
     "text": [
      "('R^2', 0.17499260841153552)\n",
      "('MAE', 53.046135746234675)\n"
     ]
    }
   ],
   "source": [
    "# Calculate and print R^2 and MAE\n",
    "print('R^2',r2_score(y_test,pred))\n",
    "print('MAE',mean_absolute_error(y_test,pred))"
   ]
  },
  {
   "cell_type": "code",
   "execution_count": 31,
   "metadata": {},
   "outputs": [
    {
     "name": "stdout",
     "output_type": "stream",
     "text": [
      "enet\n",
      "----------\n",
      "('R^2:', 0.22723446727015673)\n",
      "('MAE:', 51.008414524302516)\n",
      "lasso\n",
      "----------\n",
      "('R^2:', 0.21972414637796944)\n",
      "('MAE:', 51.678878160168274)\n",
      "ridge\n",
      "----------\n",
      "('R^2:', 0.22337748361222964)\n",
      "('MAE:', 50.588064702357663)\n",
      "gb\n",
      "----------\n",
      "('R^2:', 0.20530907906728124)\n",
      "('MAE:', 51.058078710814968)\n",
      "rf\n",
      "----------\n",
      "('R^2:', 0.17499260841153552)\n",
      "('MAE:', 53.046135746234675)\n"
     ]
    }
   ],
   "source": [
    "# Code here\n",
    "for name,model in fitted_models.items():\n",
    "    pred=model.predict(X_test)\n",
    "    print(name)\n",
    "    print('----------')\n",
    "    print('R^2:',r2_score(y_test,pred))\n",
    "    print('MAE:',mean_absolute_error(y_test,pred))"
   ]
  },
  {
   "cell_type": "code",
   "execution_count": 32,
   "metadata": {},
   "outputs": [
    {
     "data": {
      "image/png": "[encoded data removed]",
      "text/plain": [
       "<matplotlib.figure.Figure at 0xf01fa20>"
      ]
     },
     "metadata": {},
     "output_type": "display_data"
    }
   ],
   "source": [
    "rf_pred = fitted_models['rf'].predict(X_test)\n",
    "plt.scatter(rf_pred, y_test)\n",
    "plt.xlabel('predicted')\n",
    "plt.ylabel('actual')\n",
    "plt.show()\n"
   ]
  },
  {
   "cell_type": "code",
   "execution_count": 33,
   "metadata": {
    "collapsed": true
   },
   "outputs": [],
   "source": [
    "result = pd.DataFrame()\n",
    "result['predicted'] = pred\n",
    "result['actual'] = y_test"
   ]
  },
  {
   "cell_type": "code",
   "execution_count": 34,
   "metadata": {},
   "outputs": [
    {
     "data": {
      "text/plain": [
       "sklearn.model_selection._search.GridSearchCV"
      ]
     },
     "execution_count": 34,
     "metadata": {},
     "output_type": "execute_result"
    }
   ],
   "source": [
    "type(fitted_models['rf'])"
   ]
  },
  {
   "cell_type": "code",
   "execution_count": 35,
   "metadata": {},
   "outputs": [
    {
     "data": {
      "text/plain": [
       "sklearn.pipeline.Pipeline"
      ]
     },
     "execution_count": 35,
     "metadata": {},
     "output_type": "execute_result"
    }
   ],
   "source": [
    "type(fitted_models['rf'].best_estimator_)"
   ]
  },
  {
   "cell_type": "code",
   "execution_count": 36,
   "metadata": {},
   "outputs": [
    {
     "data": {
      "text/plain": [
       "Pipeline(memory=None,\n",
       "     steps=[('standardscaler', StandardScaler(copy=True, with_mean=True, with_std=True)), ('randomforestregressor', RandomForestRegressor(bootstrap=True, criterion='mse', max_depth=None,\n",
       "           max_features='sqrt', max_leaf_nodes=None,\n",
       "           min_impurity_decrease=0.0, min_impurity_split=None,\n",
       "           min_samples_leaf=1, min_samples_split=2,\n",
       "           min_weight_fraction_leaf=0.0, n_estimators=200, n_jobs=1,\n",
       "           oob_score=False, random_state=123, verbose=0, warm_start=False))])"
      ]
     },
     "execution_count": 36,
     "metadata": {},
     "output_type": "execute_result"
    }
   ],
   "source": [
    "fitted_models['rf'].best_estimator_"
   ]
  },
  {
   "cell_type": "code",
   "execution_count": 37,
   "metadata": {
    "collapsed": true
   },
   "outputs": [],
   "source": [
    "import pickle"
   ]
  },
  {
   "cell_type": "code",
   "execution_count": 38,
   "metadata": {
    "collapsed": true
   },
   "outputs": [],
   "source": [
    "with open('final_model.pkl', 'wb') as f:\n",
    "    pickle.dump(fitted_models['rf'].best_estimator_, f)"
   ]
  },
  {
   "cell_type": "code",
   "execution_count": null,
   "metadata": {
    "collapsed": true
   },
   "outputs": [],
   "source": []
  }
 ],
 "metadata": {
  "anaconda-cloud": {},
  "kernelspec": {
   "display_name": "Python 2",
   "language": "python",
   "name": "python2"
  },
  "language_info": {
   "codemirror_mode": {
    "name": "ipython",
    "version": 2
   },
   "file_extension": ".py",
   "mimetype": "text/x-python",
   "name": "python",
   "nbconvert_exporter": "python",
   "pygments_lexer": "ipython2",
   "version": "2.7.14"
  }
 },
 "nbformat": 4,
 "nbformat_minor": 1
}
